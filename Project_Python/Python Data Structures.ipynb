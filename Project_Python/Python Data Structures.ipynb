{
 "cells": [
  {
   "cell_type": "markdown",
   "id": "c52a30e3",
   "metadata": {},
   "source": [
    "### Python Data Structures\n",
    "\n",
    "links https://www.geeksforgeeks.org/python-data-structures/\n",
    "\n",
    "\n",
    "Data Structures are a way of organizing data so that it can be accessed more efficiently depending upon the situation. Data Structures are fundamentals of any programming language around which a program is built. Python helps to learn the fundamental of these data structures in a simpler way as compared to other programming languages."
   ]
  },
  {
   "cell_type": "markdown",
   "id": "345a9378",
   "metadata": {},
   "source": [
    "Lists\n",
    "\n",
    "Python Lists are just like the arrays, declared in other languages which is an ordered collection of data. It is very flexible as the items in a list do not need to be of the same type.\n",
    "\n",
    "The implementation of Python List is similar to Vectors in C++ or ArrayList in JAVA. The costly operation is inserting or deleting the element from the beginning of the List as all the elements are needed to be shifted. Insertion and deletion at the end of the list can also become costly in the case where the preallocated memory becomes full.\n",
    "\n",
    "We can create a list in python as shown below. "
   ]
  },
  {
   "cell_type": "code",
   "execution_count": 1,
   "id": "c2ef94ef",
   "metadata": {},
   "outputs": [
    {
     "name": "stdout",
     "output_type": "stream",
     "text": [
      "[1, 2, 3, 'GFG', 2.3]\n"
     ]
    }
   ],
   "source": [
    "List = [1, 2,  3, \"GFG\", 2.3]\n",
    "print(List)\n"
   ]
  },
  {
   "cell_type": "markdown",
   "id": "9eb1e529",
   "metadata": {},
   "source": [
    "### Example: Python List Operations"
   ]
  },
  {
   "cell_type": "code",
   "execution_count": 2,
   "id": "0996f166",
   "metadata": {},
   "outputs": [
    {
     "name": "stdout",
     "output_type": "stream",
     "text": [
      "\n",
      "List containing multiple values: \n",
      "['Geeks', 'For', 'Geeks']\n",
      "\n",
      "Multi-Dimensional List: \n",
      "[['Geeks', 'For'], ['Geeks']]\n",
      "Accessing element from the list\n",
      "Geeks\n",
      "Geeks\n",
      "Accessing element using negative indexing\n",
      "Geeks\n",
      "Geeks\n"
     ]
    }
   ],
   "source": [
    "# Creating a List with \n",
    "# the use of multiple values \n",
    "List = [\"Geeks\", \"For\", \"Geeks\"] \n",
    "print(\"\\nList containing multiple values: \") \n",
    "print(List)\n",
    "\n",
    "# Creating a Multi-Dimensional List \n",
    "# (By Nesting a list inside a List) \n",
    "List2 = [['Geeks', 'For'], ['Geeks']] \n",
    "print(\"\\nMulti-Dimensional List: \") \n",
    "print(List2) \n",
    "\n",
    "# accessing a element from the  \n",
    "# list using index number \n",
    "print(\"Accessing element from the list\") \n",
    "print(List[0])  \n",
    "print(List[2]) \n",
    "\n",
    "# accessing a element using \n",
    "# negative indexing \n",
    "print(\"Accessing element using negative indexing\") \n",
    "    \n",
    "# print the last element of list \n",
    "print(List[-1]) \n",
    "    \n",
    "# print the third last element of list  \n",
    "print(List[-3]) \n"
   ]
  },
  {
   "cell_type": "markdown",
   "id": "c0d1fb56",
   "metadata": {},
   "source": [
    "### Dictionary\n",
    "\n",
    "Python dictionary is like hash tables in any other language with the time complexity of O(1). It is an unordered collection of data values, used to store data values like a map, which, unlike other Data Types that hold only a single value as an element, Dictionary holds the key:value pair. Key-value is provided in the dictionary to make it more optimized. \n",
    "\n",
    "Indexing of Python Dictionary is done with the help of keys. These are of any hashable type i.e. an object whose can never change like strings, numbers, tuples, etc. We can create a dictionary by using curly braces ({}) or dictionary comprehension.\n",
    "#### Example: Python Dictionary Operations"
   ]
  },
  {
   "cell_type": "code",
   "execution_count": 3,
   "id": "b8343031",
   "metadata": {},
   "outputs": [
    {
     "name": "stdout",
     "output_type": "stream",
     "text": [
      "Creating Dictionary: \n",
      "{'Name': 'Geeks', 1: [1, 2, 3, 4]}\n",
      "Accessing a element using key:\n",
      "Geeks\n",
      "Accessing a element using get:\n",
      "[1, 2, 3, 4]\n",
      "{1: 1, 2: 4, 3: 9, 4: 16, 5: 25}\n"
     ]
    }
   ],
   "source": [
    "# Creating a Dictionary\n",
    "Dict = {'Name': 'Geeks', 1: [1, 2, 3, 4]}\n",
    "print(\"Creating Dictionary: \")\n",
    "print(Dict)\n",
    "\n",
    "# accessing a element using key \n",
    "print(\"Accessing a element using key:\") \n",
    "print(Dict['Name']) \n",
    "\n",
    "# accessing a element using get() \n",
    "# method \n",
    "print(\"Accessing a element using get:\") \n",
    "print(Dict.get(1)) \n",
    "\n",
    "# creation using Dictionary comprehension\n",
    "myDict = {x: x**2 for x in [1,2,3,4,5]}\n",
    "print(myDict)\n"
   ]
  },
  {
   "cell_type": "markdown",
   "id": "7f27db2b",
   "metadata": {},
   "source": [
    "### Tuple\n",
    "\n",
    "Python Tuple is a collection of Python objects much like a list but Tuples are immutable in nature i.e. the elements in the tuple cannot be added or removed once created. Just like a List, a Tuple can also contain elements of various types.\n",
    "\n",
    "In Python, tuples are created by placing a sequence of values separated by ‘comma’ with or without the use of parentheses for grouping of the data sequence.\n",
    "\n",
    "Note: Tuples can also be created with a single element, but it is a bit tricky. Having one element in the parentheses is not sufficient, there must be a trailing ‘comma’ to make it a tuple.\n",
    "#### Example: Python Tuple Operations"
   ]
  },
  {
   "cell_type": "code",
   "execution_count": 4,
   "id": "f8d62d85",
   "metadata": {},
   "outputs": [
    {
     "name": "stdout",
     "output_type": "stream",
     "text": [
      "\n",
      "Tuple with the use of String: \n",
      "('Geeks', 'For')\n",
      "\n",
      "Tuple using List: \n",
      "First element of tuple\n",
      "1\n",
      "\n",
      "Last element of tuple\n",
      "6\n",
      "\n",
      "Third last element of tuple\n",
      "4\n"
     ]
    }
   ],
   "source": [
    "# Creating a Tuple with\n",
    "# the use of Strings\n",
    "Tuple = ('Geeks', 'For')\n",
    "print(\"\\nTuple with the use of String: \")\n",
    "print(Tuple)\n",
    "    \n",
    "# Creating a Tuple with\n",
    "# the use of list\n",
    "list1 = [1, 2, 4, 5, 6]\n",
    "print(\"\\nTuple using List: \")\n",
    "Tuple = tuple(list1)\n",
    "\n",
    "# Accessing element using indexing\n",
    "print(\"First element of tuple\")\n",
    "print(Tuple[0])\n",
    "\n",
    "# Accessing element from last\n",
    "# negative indexing\n",
    "print(\"\\nLast element of tuple\")\n",
    "print(Tuple[-1])\n",
    "  \n",
    "print(\"\\nThird last element of tuple\")\n",
    "print(Tuple[-3])\n"
   ]
  },
  {
   "cell_type": "markdown",
   "id": "79052588",
   "metadata": {},
   "source": [
    "### Set\n",
    "\n",
    "Python Set is an unordered collection of data that is mutable and does not allow any duplicate element. Sets are basically used to include membership testing and eliminating duplicate entries. The data structure used in this is Hashing, a popular technique to perform insertion, deletion, and traversal in O(1) on average. \n",
    "\n",
    "If Multiple values are present at the same index position, then the value is appended to that index position, to form a Linked List. In, CPython Sets are implemented using a dictionary with dummy variables, where key beings the members set with greater optimizations to the time complexity.\n",
    "\n",
    "Set Implementation:\n",
    "\n",
    "Internal Working of Set\n",
    "\n",
    "Sets with Numerous operations on a single HashTable:\n",
    "\n",
    "Internal Working of Set\n",
    "#### Example: Python Set Operations"
   ]
  },
  {
   "cell_type": "code",
   "execution_count": 5,
   "id": "9fee1557",
   "metadata": {},
   "outputs": [
    {
     "name": "stdout",
     "output_type": "stream",
     "text": [
      "\n",
      "Set with the use of Mixed Values\n",
      "{1, 2, 4, 6, 'For', 'Geeks'}\n",
      "\n",
      "Elements of set: \n",
      "1 2 4 6 For Geeks \n",
      "True\n"
     ]
    }
   ],
   "source": [
    "# Creating a Set with  \n",
    "# a mixed type of values \n",
    "# (Having numbers and strings) \n",
    "Set = set([1, 2, 'Geeks', 4, 'For', 6, 'Geeks']) \n",
    "print(\"\\nSet with the use of Mixed Values\") \n",
    "print(Set) \n",
    "\n",
    "# Accessing element using \n",
    "# for loop \n",
    "print(\"\\nElements of set: \") \n",
    "for i in Set: \n",
    "    print(i, end =\" \") \n",
    "print()\n",
    "\n",
    "# Checking the element \n",
    "# using in keyword \n",
    "print(\"Geeks\" in Set) \n"
   ]
  },
  {
   "cell_type": "markdown",
   "id": "da32f6c9",
   "metadata": {},
   "source": [
    "### Frozen Sets\n",
    "\n",
    "Frozen sets in Python are immutable objects that only support methods and operators that produce a result without affecting the frozen set or sets to which they are applied. While elements of a set can be modified at any time, elements of the frozen set remain the same after creation.\n",
    "\n",
    "If no parameters are passed, it returns an empty frozenset."
   ]
  },
  {
   "cell_type": "code",
   "execution_count": 6,
   "id": "25265532",
   "metadata": {},
   "outputs": [
    {
     "name": "stdout",
     "output_type": "stream",
     "text": [
      "Normal Set\n",
      "{'a', 'b', 'c'}\n",
      "\n",
      "Frozen Set\n",
      "frozenset({'e', 'g', 'f'})\n"
     ]
    }
   ],
   "source": [
    "# Same as {\"a\", \"b\",\"c\"}\n",
    "normal_set = set([\"a\", \"b\",\"c\"])\n",
    "\n",
    "print(\"Normal Set\")\n",
    "print(normal_set)\n",
    "\n",
    "# A frozen set\n",
    "frozen_set = frozenset([\"e\", \"f\", \"g\"])\n",
    "\n",
    "print(\"\\nFrozen Set\")\n",
    "print(frozen_set)\n",
    "\n",
    "# Uncommenting below line would cause error as\n",
    "# we are trying to add element to a frozen set\n",
    "# frozen_set.add(\"h\")\n"
   ]
  },
  {
   "cell_type": "markdown",
   "id": "7d4e6abd",
   "metadata": {},
   "source": [
    "### String\n",
    "\n",
    "Python Strings are arrays of bytes representing Unicode characters. In simpler terms, a string is an immutable array of characters. Python does not have a character data type, a single character is simply a string with a length of 1.\n",
    "\n",
    "Note: As strings are immutable, modifying a string will result in creating a new copy.\n",
    "\n",
    "#### strings\n",
    "#### Example: Python Strings Operations"
   ]
  },
  {
   "cell_type": "code",
   "execution_count": 7,
   "id": "912606b0",
   "metadata": {},
   "outputs": [
    {
     "name": "stdout",
     "output_type": "stream",
     "text": [
      "Creating String: \n",
      "Welcome to GeeksForGeeks\n",
      "\n",
      "First character of String is: \n",
      "W\n",
      "\n",
      "Last character of String is: \n",
      "s\n"
     ]
    }
   ],
   "source": [
    "String = \"Welcome to GeeksForGeeks\"\n",
    "print(\"Creating String: \") \n",
    "print(String) \n",
    "    \n",
    "# Printing First character \n",
    "print(\"\\nFirst character of String is: \") \n",
    "print(String[0]) \n",
    "    \n",
    "# Printing Last character \n",
    "print(\"\\nLast character of String is: \") \n",
    "print(String[-1]) \n"
   ]
  },
  {
   "cell_type": "markdown",
   "id": "f1a05255",
   "metadata": {},
   "source": [
    "### Bytearray\n",
    "\n",
    "Python Bytearray gives a mutable sequence of integers in the range 0 <= x < 256.\n",
    "#### Example: Python Bytearray Operations"
   ]
  },
  {
   "cell_type": "code",
   "execution_count": 10,
   "id": "88aa659d",
   "metadata": {},
   "outputs": [
    {
     "name": "stdout",
     "output_type": "stream",
     "text": [
      "Creating Bytearray:\n",
      "bytearray(b'\\x0c\\x08\\x19\\x02')\n",
      "\n",
      "Accessing Elements: 8\n",
      "\n",
      "After Modifying:\n",
      "bytearray(b'\\x0c\\x03\\x19\\x02')\n",
      "\n",
      "After Adding Elements:\n",
      "bytearray(b'\\x0c\\x03\\x19\\x02\\x1e')\n"
     ]
    }
   ],
   "source": [
    "# Creating bytearray\n",
    "a = bytearray((12, 8, 25, 2))\n",
    "print(\"Creating Bytearray:\")\n",
    "print(a)\n",
    "\n",
    "# accessing elements\n",
    "print(\"\\nAccessing Elements:\", a[1])\n",
    "\n",
    "# modifying elements \n",
    "a[1] = 3\n",
    "print(\"\\nAfter Modifying:\")\n",
    "print(a)\n",
    "\n",
    "# Appending elements\n",
    "a.append(30)\n",
    "print(\"\\nAfter Adding Elements:\")\n",
    "print(a)\n"
   ]
  },
  {
   "cell_type": "markdown",
   "id": "4ca11034",
   "metadata": {},
   "source": [
    "### Counters\n",
    "\n",
    "A counter is a sub-class of the dictionary. It is used to keep the count of the elements in an iterable in the form of an unordered dictionary where the key represents the element in the iterable and value represents the count of that element in the iterable. This is equivalent to a bag or multiset of other languages.\n",
    "#### Example: Python Counter Operations"
   ]
  },
  {
   "cell_type": "code",
   "execution_count": 11,
   "id": "9c498893",
   "metadata": {},
   "outputs": [
    {
     "name": "stdout",
     "output_type": "stream",
     "text": [
      "Counter({'B': 5, 'A': 3, 'C': 2})\n",
      "Counter({'B': 5, 'A': 3, 'C': 2})\n",
      "Counter({'B': 5, 'A': 4, 'C': 2, 1: 1})\n"
     ]
    }
   ],
   "source": [
    "from collections import Counter\n",
    "  \n",
    "# With sequence of items \n",
    "print(Counter(['B','B','A','B','C','A','B','B','A','C']))\n",
    "  \n",
    "# with dictionary\n",
    "count = Counter({'A':3, 'B':5, 'C':2})\n",
    "print(count)\n",
    "\n",
    "count.update(['A', 1])\n",
    "print(count)\n"
   ]
  },
  {
   "cell_type": "markdown",
   "id": "cd821386",
   "metadata": {},
   "source": [
    "### OrderedDict\n",
    "\n",
    "An OrderedDict is also a sub-class of dictionary but unlike a dictionary, it remembers the order in which the keys were inserted. \n",
    "#### Example: Python OrderedDict Operations"
   ]
  },
  {
   "cell_type": "code",
   "execution_count": 12,
   "id": "a6550c39",
   "metadata": {},
   "outputs": [
    {
     "name": "stdout",
     "output_type": "stream",
     "text": [
      "Before deleting:\n",
      "\n",
      "a 1\n",
      "b 2\n",
      "c 3\n",
      "d 4\n",
      "\n",
      "After deleting:\n",
      "\n",
      "a 1\n",
      "b 2\n",
      "d 4\n",
      "\n",
      "After re-inserting:\n",
      "\n",
      "a 1\n",
      "b 2\n",
      "d 4\n",
      "c 3\n"
     ]
    }
   ],
   "source": [
    "from collections import OrderedDict\n",
    "\n",
    "print(\"Before deleting:\\n\")\n",
    "od = OrderedDict()\n",
    "od['a'] = 1\n",
    "od['b'] = 2\n",
    "od['c'] = 3\n",
    "od['d'] = 4\n",
    "\n",
    "for key, value in od.items():\n",
    "    print(key, value)\n",
    "\n",
    "print(\"\\nAfter deleting:\\n\")\n",
    "od.pop('c')\n",
    "for key, value in od.items():\n",
    "    print(key, value)\n",
    "\n",
    "print(\"\\nAfter re-inserting:\\n\")\n",
    "od['c'] = 3\n",
    "for key, value in od.items():\n",
    "    print(key, value)\n"
   ]
  },
  {
   "cell_type": "markdown",
   "id": "28a0ca09",
   "metadata": {},
   "source": [
    "### DefaultDict\n",
    "\n",
    "DefaultDict is used to provide some default values for the key that does not exist and never raises a KeyError. Its objects can be initialized using DefaultDict() method by passing the data type as an argument.\n",
    "\n",
    "Note: default_factory is a function that provides the default value for the dictionary created. If this parameter is absent then the KeyError is raised.\n",
    "#### Example: Python DefaultDict Operations"
   ]
  },
  {
   "cell_type": "code",
   "execution_count": 13,
   "id": "cf54454f",
   "metadata": {},
   "outputs": [
    {
     "name": "stdout",
     "output_type": "stream",
     "text": [
      "defaultdict(<class 'int'>, {1: 2, 2: 3, 3: 1, 4: 2})\n"
     ]
    }
   ],
   "source": [
    "from collections import defaultdict\n",
    "    \n",
    "\n",
    "# Defining the dict\n",
    "d = defaultdict(int)\n",
    "    \n",
    "L = [1, 2, 3, 4, 2, 4, 1, 2]\n",
    "    \n",
    "# Iterate through the list\n",
    "# for keeping the count\n",
    "for i in L:\n",
    "        \n",
    "    # The default value is 0\n",
    "    # so there is no need to\n",
    "    # enter the key first\n",
    "    d[i] += 1\n",
    "        \n",
    "print(d)\n"
   ]
  },
  {
   "cell_type": "markdown",
   "id": "80796dd3",
   "metadata": {},
   "source": [
    "### ChainMap\n",
    "\n",
    "A ChainMap encapsulates many dictionaries into a single unit and returns a list of dictionaries. When a key is needed to be found then all the dictionaries are searched one by one until the key is found.\n",
    "#### Example: Python ChainMap Operations"
   ]
  },
  {
   "cell_type": "code",
   "execution_count": 14,
   "id": "78af31a9",
   "metadata": {},
   "outputs": [
    {
     "name": "stdout",
     "output_type": "stream",
     "text": [
      "ChainMap({'a': 1, 'b': 2}, {'c': 3, 'd': 4}, {'e': 5, 'f': 6})\n",
      "1\n"
     ]
    },
    {
     "ename": "KeyError",
     "evalue": "'g'",
     "output_type": "error",
     "traceback": [
      "\u001b[0;31m---------------------------------------------------------------------------\u001b[0m",
      "\u001b[0;31mKeyError\u001b[0m                                  Traceback (most recent call last)",
      "Cell \u001b[0;32mIn[14], line 13\u001b[0m\n\u001b[1;32m     10\u001b[0m \u001b[38;5;28mprint\u001b[39m(c)\n\u001b[1;32m     12\u001b[0m \u001b[38;5;28mprint\u001b[39m(c[\u001b[38;5;124m'\u001b[39m\u001b[38;5;124ma\u001b[39m\u001b[38;5;124m'\u001b[39m])\n\u001b[0;32m---> 13\u001b[0m \u001b[38;5;28mprint\u001b[39m(\u001b[43mc\u001b[49m\u001b[43m[\u001b[49m\u001b[38;5;124;43m'\u001b[39;49m\u001b[38;5;124;43mg\u001b[39;49m\u001b[38;5;124;43m'\u001b[39;49m\u001b[43m]\u001b[49m)\n",
      "File \u001b[0;32m/usr/lib/python3.12/collections/__init__.py:1015\u001b[0m, in \u001b[0;36mChainMap.__getitem__\u001b[0;34m(self, key)\u001b[0m\n\u001b[1;32m   1013\u001b[0m     \u001b[38;5;28;01mexcept\u001b[39;00m \u001b[38;5;167;01mKeyError\u001b[39;00m:\n\u001b[1;32m   1014\u001b[0m         \u001b[38;5;28;01mpass\u001b[39;00m\n\u001b[0;32m-> 1015\u001b[0m \u001b[38;5;28;01mreturn\u001b[39;00m \u001b[38;5;28;43mself\u001b[39;49m\u001b[38;5;241;43m.\u001b[39;49m\u001b[38;5;21;43m__missing__\u001b[39;49m\u001b[43m(\u001b[49m\u001b[43mkey\u001b[49m\u001b[43m)\u001b[49m\n",
      "File \u001b[0;32m/usr/lib/python3.12/collections/__init__.py:1007\u001b[0m, in \u001b[0;36mChainMap.__missing__\u001b[0;34m(self, key)\u001b[0m\n\u001b[1;32m   1006\u001b[0m \u001b[38;5;28;01mdef\u001b[39;00m\u001b[38;5;250m \u001b[39m\u001b[38;5;21m__missing__\u001b[39m(\u001b[38;5;28mself\u001b[39m, key):\n\u001b[0;32m-> 1007\u001b[0m     \u001b[38;5;28;01mraise\u001b[39;00m \u001b[38;5;167;01mKeyError\u001b[39;00m(key)\n",
      "\u001b[0;31mKeyError\u001b[0m: 'g'"
     ]
    }
   ],
   "source": [
    "from collections import ChainMap\n",
    "    \n",
    "    \n",
    "d1 = {'a': 1, 'b': 2}\n",
    "d2 = {'c': 3, 'd': 4}\n",
    "d3 = {'e': 5, 'f': 6}\n",
    "    \n",
    "# Defining the chainmap\n",
    "c = ChainMap(d1, d2, d3)\n",
    "print(c)\n",
    "\n",
    "print(c['a'])\n",
    "print(c['g'])\n"
   ]
  },
  {
   "cell_type": "markdown",
   "id": "b02eea0a",
   "metadata": {},
   "source": [
    "### NamedTuple\n",
    "\n",
    "A NamedTuple returns a tuple object with names for each position which the ordinary tuples lack. For example, consider a tuple names student where the first element represents fname, second represents lname and the third element represents the DOB. Suppose for calling fname instead of remembering the index position you can actually call the element by using the fname argument, then it will be really easy for accessing tuples element. This functionality is provided by the NamedTuple.\n",
    "#### Example: Python NamedTuple Operations"
   ]
  },
  {
   "cell_type": "code",
   "execution_count": 15,
   "id": "05428bc6",
   "metadata": {},
   "outputs": [
    {
     "name": "stdout",
     "output_type": "stream",
     "text": [
      "The Student age using index is : 19\n",
      "The Student name using keyname is : Nandini\n"
     ]
    }
   ],
   "source": [
    "from collections import namedtuple\n",
    "    \n",
    "# Declaring namedtuple()\n",
    "Student = namedtuple('Student',['name','age','DOB'])\n",
    "    \n",
    "# Adding values\n",
    "S = Student('Nandini','19','2541997')\n",
    "    \n",
    "# Access using index\n",
    "print (\"The Student age using index is : \",end =\"\")\n",
    "print (S[1])\n",
    "    \n",
    "# Access using name\n",
    "print (\"The Student name using keyname is : \",end =\"\")\n",
    "print (S.name)\n"
   ]
  },
  {
   "cell_type": "markdown",
   "id": "3b44ea5a",
   "metadata": {},
   "source": [
    "### Deque\n",
    "\n",
    "Deque (Doubly Ended Queue) is the optimized list for quicker append and pop operations from both sides of the container. It provides O(1) time complexity for append and pop operations as compared to the list with O(n) time complexity.\n",
    "\n",
    "Python Deque is implemented using doubly linked lists therefore the performance for randomly accessing the elements is O(n).\n",
    "#### Example: Python Deque Operations"
   ]
  },
  {
   "cell_type": "code",
   "execution_count": 16,
   "id": "92f9a2ea",
   "metadata": {},
   "outputs": [
    {
     "name": "stdout",
     "output_type": "stream",
     "text": [
      "The deque after appending at right is : \n",
      "deque([1, 2, 3, 4])\n",
      "The deque after appending at left is : \n",
      "deque([6, 1, 2, 3, 4])\n",
      "The deque after deleting from right is : \n",
      "deque([6, 1, 2, 3])\n",
      "The deque after deleting from left is : \n",
      "deque([1, 2, 3])\n"
     ]
    }
   ],
   "source": [
    "# importing \"collections\" for deque operations\n",
    "import collections\n",
    "\n",
    "# initializing deque\n",
    "de = collections.deque([1,2,3])\n",
    "\n",
    "# using append() to insert element at right end\n",
    "# inserts 4 at the end of deque\n",
    "de.append(4)\n",
    "\n",
    "# printing modified deque\n",
    "print(\"The deque after appending at right is : \")\n",
    "print(de)\n",
    "\n",
    "# using appendleft() to insert element at left end\n",
    "# inserts 6 at the beginning of deque\n",
    "de.appendleft(6)\n",
    "\n",
    "# printing modified deque\n",
    "print(\"The deque after appending at left is : \")\n",
    "print(de)\n",
    "\n",
    "# using pop() to delete element from right end\n",
    "# deletes 4 from the right end of deque\n",
    "de.pop()\n",
    "\n",
    "# printing modified deque\n",
    "print(\"The deque after deleting from right is : \")\n",
    "print(de)\n",
    "\n",
    "# using popleft() to delete element from left end\n",
    "# deletes 6 from the left end of deque\n",
    "de.popleft()\n",
    "\n",
    "# printing modified deque\n",
    "print(\"The deque after deleting from left is : \")\n",
    "print(de)\n"
   ]
  },
  {
   "cell_type": "markdown",
   "id": "340dd78c",
   "metadata": {},
   "source": [
    "### UserDict\n",
    "\n",
    "UserDict is a dictionary-like container that acts as a wrapper around the dictionary objects. This container is used when someone wants to create their own dictionary with some modified or new functionality. \n",
    "##### Example: Python UserDict"
   ]
  },
  {
   "cell_type": "code",
   "execution_count": 17,
   "id": "1f9480d7",
   "metadata": {},
   "outputs": [
    {
     "name": "stdout",
     "output_type": "stream",
     "text": [
      "Original Dictionary\n",
      "{'a': 1, 'b': 2, 'c': 3}\n"
     ]
    },
    {
     "ename": "RuntimeError",
     "evalue": "Deletion not allowed",
     "output_type": "error",
     "traceback": [
      "\u001b[0;31m---------------------------------------------------------------------------\u001b[0m",
      "\u001b[0;31mRuntimeError\u001b[0m                              Traceback (most recent call last)",
      "Cell \u001b[0;32mIn[17], line 30\u001b[0m\n\u001b[1;32m     27\u001b[0m \u001b[38;5;28mprint\u001b[39m(\u001b[38;5;124m\"\u001b[39m\u001b[38;5;124mOriginal Dictionary\u001b[39m\u001b[38;5;124m\"\u001b[39m)\n\u001b[1;32m     28\u001b[0m \u001b[38;5;28mprint\u001b[39m(d)\n\u001b[0;32m---> 30\u001b[0m \u001b[43md\u001b[49m\u001b[38;5;241;43m.\u001b[39;49m\u001b[43mpop\u001b[49m\u001b[43m(\u001b[49m\u001b[38;5;241;43m1\u001b[39;49m\u001b[43m)\u001b[49m\n",
      "Cell \u001b[0;32mIn[17], line 15\u001b[0m, in \u001b[0;36mMyDict.pop\u001b[0;34m(self, s)\u001b[0m\n\u001b[1;32m     14\u001b[0m \u001b[38;5;28;01mdef\u001b[39;00m\u001b[38;5;250m \u001b[39m\u001b[38;5;21mpop\u001b[39m(\u001b[38;5;28mself\u001b[39m, s \u001b[38;5;241m=\u001b[39m \u001b[38;5;28;01mNone\u001b[39;00m):\n\u001b[0;32m---> 15\u001b[0m     \u001b[38;5;28;01mraise\u001b[39;00m \u001b[38;5;167;01mRuntimeError\u001b[39;00m(\u001b[38;5;124m\"\u001b[39m\u001b[38;5;124mDeletion not allowed\u001b[39m\u001b[38;5;124m\"\u001b[39m)\n",
      "\u001b[0;31mRuntimeError\u001b[0m: Deletion not allowed"
     ]
    }
   ],
   "source": [
    "from collections import UserDict\n",
    "\n",
    "# Creating a Dictionary where\n",
    "# deletion is not allowed\n",
    "class MyDict(UserDict):\n",
    "    \n",
    "    # Function to stop deletion\n",
    "    # from dictionary\n",
    "    def __del__(self):\n",
    "        raise RuntimeError(\"Deletion not allowed\")\n",
    "        \n",
    "    # Function to stop pop from\n",
    "    # dictionary\n",
    "    def pop(self, s = None):\n",
    "        raise RuntimeError(\"Deletion not allowed\")\n",
    "        \n",
    "    # Function to stop popitem\n",
    "    # from Dictionary\n",
    "    def popitem(self, s = None):\n",
    "        raise RuntimeError(\"Deletion not allowed\")\n",
    "    \n",
    "# Driver's code\n",
    "d = MyDict({'a':1,\n",
    "    'b': 2,\n",
    "    'c': 3})\n",
    "\n",
    "print(\"Original Dictionary\")\n",
    "print(d)\n",
    "\n",
    "d.pop(1)\n"
   ]
  },
  {
   "cell_type": "markdown",
   "id": "01160b31",
   "metadata": {},
   "source": [
    "### UserList\n",
    "\n",
    "UserList is a list-like container that acts as a wrapper around the list objects. This is useful when someone wants to create their own list with some modified or additional functionality.\n",
    "#### Examples: Python UserList"
   ]
  },
  {
   "cell_type": "code",
   "execution_count": 18,
   "id": "fea1a686",
   "metadata": {},
   "outputs": [
    {
     "name": "stdout",
     "output_type": "stream",
     "text": [
      "Original List\n",
      "[1, 2, 3, 4]\n",
      "After Insertion\n",
      "[1, 2, 3, 4, 5]\n"
     ]
    },
    {
     "ename": "RuntimeError",
     "evalue": "Deletion not allowed",
     "output_type": "error",
     "traceback": [
      "\u001b[0;31m---------------------------------------------------------------------------\u001b[0m",
      "\u001b[0;31mRuntimeError\u001b[0m                              Traceback (most recent call last)",
      "Cell \u001b[0;32mIn[18], line 34\u001b[0m\n\u001b[1;32m     31\u001b[0m \u001b[38;5;28mprint\u001b[39m(L)\n\u001b[1;32m     33\u001b[0m \u001b[38;5;66;03m# Deleting From List\u001b[39;00m\n\u001b[0;32m---> 34\u001b[0m \u001b[43mL\u001b[49m\u001b[38;5;241;43m.\u001b[39;49m\u001b[43mremove\u001b[49m\u001b[43m(\u001b[49m\u001b[43m)\u001b[49m\n",
      "Cell \u001b[0;32mIn[18], line 15\u001b[0m, in \u001b[0;36mMyList.remove\u001b[0;34m(self, s)\u001b[0m\n\u001b[1;32m     14\u001b[0m \u001b[38;5;28;01mdef\u001b[39;00m\u001b[38;5;250m \u001b[39m\u001b[38;5;21mremove\u001b[39m(\u001b[38;5;28mself\u001b[39m, s \u001b[38;5;241m=\u001b[39m \u001b[38;5;28;01mNone\u001b[39;00m):\n\u001b[0;32m---> 15\u001b[0m     \u001b[38;5;28;01mraise\u001b[39;00m \u001b[38;5;167;01mRuntimeError\u001b[39;00m(\u001b[38;5;124m\"\u001b[39m\u001b[38;5;124mDeletion not allowed\u001b[39m\u001b[38;5;124m\"\u001b[39m)\n",
      "\u001b[0;31mRuntimeError\u001b[0m: Deletion not allowed"
     ]
    }
   ],
   "source": [
    "# Python program to demonstrate\n",
    "# userlist\n",
    "\n",
    "\n",
    "from collections import UserList\n",
    "\n",
    "\n",
    "# Creating a List where\n",
    "# deletion is not allowed\n",
    "class MyList(UserList):\n",
    "    \n",
    "    # Function to stop deletion\n",
    "    # from List\n",
    "    def remove(self, s = None):\n",
    "        raise RuntimeError(\"Deletion not allowed\")\n",
    "        \n",
    "    # Function to stop pop from\n",
    "    # List\n",
    "    def pop(self, s = None):\n",
    "        raise RuntimeError(\"Deletion not allowed\")\n",
    "    \n",
    "# Driver's code\n",
    "L = MyList([1, 2, 3, 4])\n",
    "\n",
    "print(\"Original List\")\n",
    "print(L)\n",
    "\n",
    "# Inserting to List\"\n",
    "L.append(5)\n",
    "print(\"After Insertion\")\n",
    "print(L)\n",
    "\n",
    "# Deleting From List\n",
    "L.remove()\n"
   ]
  },
  {
   "cell_type": "markdown",
   "id": "a6db0126",
   "metadata": {},
   "source": [
    "### UserString\n",
    "\n",
    "UserString is a string-like container and just like UserDict and UserList, it acts as a wrapper around string objects. It is used when someone wants to create their own strings with some modified or additional functionality. \n",
    "#### Example: Python UserString"
   ]
  },
  {
   "cell_type": "code",
   "execution_count": 19,
   "id": "e74ed737",
   "metadata": {},
   "outputs": [
    {
     "name": "stdout",
     "output_type": "stream",
     "text": [
      "Original String: Geeks\n",
      "String After Appending: Geekss\n",
      "String after Removing: Gkss\n"
     ]
    }
   ],
   "source": [
    "from collections import UserString\n",
    "\n",
    "# Creating a Mutable String\n",
    "class Mystring(UserString):\n",
    "    \n",
    "    # Function to append to\n",
    "    # string\n",
    "    def append(self, s):\n",
    "        self.data += s\n",
    "        \n",
    "    # Function to remove from\n",
    "    # string\n",
    "    def remove(self, s):\n",
    "        self.data = self.data.replace(s, \"\")\n",
    "    \n",
    "# Driver's code\n",
    "s1 = Mystring(\"Geeks\")\n",
    "print(\"Original String:\", s1.data)\n",
    "\n",
    "# Appending to string\n",
    "s1.append(\"s\")\n",
    "print(\"String After Appending:\", s1.data)\n",
    "\n",
    "# Removing from string\n",
    "s1.remove(\"e\")\n",
    "print(\"String after Removing:\", s1.data)\n"
   ]
  },
  {
   "cell_type": "markdown",
   "id": "e1fca039",
   "metadata": {},
   "source": [
    "### Linked List\n",
    "\n",
    "A linked list is a linear data structure, in which the elements are not stored at contiguous memory locations. The elements in a linked list are linked using pointers as shown in the below image:\n",
    "\n",
    "A linked list is represented by a pointer to the first node of the linked list. The first node is called the head. If the linked list is empty, then the value of the head is NULL. Each node in a list consists of at least two parts:\n",
    "\n",
    "    Data\n",
    "    Pointer (Or Reference) to the next node\n",
    "\n",
    "#### Example: Defining Linked List in Python"
   ]
  },
  {
   "cell_type": "code",
   "execution_count": 20,
   "id": "32b16565",
   "metadata": {},
   "outputs": [],
   "source": [
    "# Node class\n",
    "class Node:\n",
    "\n",
    "    # Function to initialize the node object\n",
    "    def __init__(self, data):\n",
    "        self.data = data # Assign data\n",
    "        self.next = None # Initialize\n",
    "                        # next as null\n",
    "\n",
    "# Linked List class\n",
    "class LinkedList:\n",
    "    \n",
    "    # Function to initialize the Linked\n",
    "    # List object\n",
    "    def __init__(self):\n",
    "        self.head = None\n"
   ]
  },
  {
   "cell_type": "markdown",
   "id": "5b279863",
   "metadata": {},
   "source": [
    "Let us create a simple linked list with 3 nodes."
   ]
  },
  {
   "cell_type": "code",
   "execution_count": 21,
   "id": "fb48b7ce",
   "metadata": {},
   "outputs": [],
   "source": [
    "# A simple Python program to introduce a linked list\n",
    "\n",
    "# Node class\n",
    "class Node:\n",
    "\n",
    "    # Function to initialise the node object\n",
    "    def __init__(self, data):\n",
    "        self.data = data # Assign data\n",
    "        self.next = None # Initialize next as null\n",
    "\n",
    "\n",
    "# Linked List class contains a Node object\n",
    "class LinkedList:\n",
    "\n",
    "    # Function to initialize head\n",
    "    def __init__(self):\n",
    "        self.head = None\n",
    "\n",
    "\n",
    "# Code execution starts here\n",
    "if __name__=='__main__':\n",
    "\n",
    "    # Start with the empty list\n",
    "    list = LinkedList()\n",
    "\n",
    "    list.head = Node(1)\n",
    "    second = Node(2)\n",
    "    third = Node(3)\n",
    "\n",
    "    '''\n",
    "    Three nodes have been created.\n",
    "    We have references to these three blocks as head,\n",
    "    second and third\n",
    "\n",
    "    list.head     second             third\n",
    "        |             |                 |\n",
    "        |             |                 |\n",
    "    +----+------+     +----+------+     +----+------+\n",
    "    | 1 | None |     | 2 | None |     | 3 | None |\n",
    "    +----+------+     +----+------+     +----+------+\n",
    "    '''\n",
    "\n",
    "    list.head.next = second; # Link first node with second\n",
    "\n",
    "    '''\n",
    "    Now next of first Node refers to second. So they\n",
    "    both are linked.\n",
    "\n",
    "    list.head     second             third\n",
    "        |             |                 |\n",
    "        |             |                 |\n",
    "    +----+------+     +----+------+     +----+------+\n",
    "    | 1 | o-------->| 2 | null |     | 3 | null |\n",
    "    +----+------+     +----+------+     +----+------+\n",
    "    '''\n",
    "\n",
    "    second.next = third; # Link second node with the third node\n",
    "\n",
    "    '''\n",
    "    Now next of second Node refers to third. So all three\n",
    "    nodes are linked.\n",
    "\n",
    "    list.head     second             third\n",
    "        |             |                 |\n",
    "        |             |                 |\n",
    "    +----+------+     +----+------+     +----+------+\n",
    "    | 1 | o-------->| 2 | o-------->| 3 | null |\n",
    "    +----+------+     +----+------+     +----+------+\n",
    "    '''\n"
   ]
  },
  {
   "cell_type": "markdown",
   "id": "4308cb31",
   "metadata": {},
   "source": [
    "### Linked List Traversal \n",
    "\n",
    "In the previous program, we have created a simple linked list with three nodes. Let us traverse the created list and print the data of each node. For traversal, let us write a general-purpose function printList() that prints any given list."
   ]
  },
  {
   "cell_type": "code",
   "execution_count": 22,
   "id": "2877f05e",
   "metadata": {},
   "outputs": [
    {
     "name": "stdout",
     "output_type": "stream",
     "text": [
      "1\n",
      "2\n",
      "3\n"
     ]
    }
   ],
   "source": [
    "# A simple Python program for traversal of a linked list\n",
    "\n",
    "# Node class\n",
    "class Node:\n",
    "\n",
    "    # Function to initialise the node object\n",
    "    def __init__(self, data):\n",
    "        self.data = data # Assign data\n",
    "        self.next = None # Initialize next as null\n",
    "\n",
    "\n",
    "# Linked List class contains a Node object\n",
    "class LinkedList:\n",
    "\n",
    "    # Function to initialize head\n",
    "    def __init__(self):\n",
    "        self.head = None\n",
    "\n",
    "    # This function prints contents of linked list\n",
    "    # starting from head\n",
    "    def printList(self):\n",
    "        temp = self.head\n",
    "        while (temp):\n",
    "            print (temp.data)\n",
    "            temp = temp.next\n",
    "\n",
    "\n",
    "# Code execution starts here\n",
    "if __name__=='__main__':\n",
    "\n",
    "    # Start with the empty list\n",
    "    list = LinkedList()\n",
    "\n",
    "    list.head = Node(1)\n",
    "    second = Node(2)\n",
    "    third = Node(3)\n",
    "\n",
    "    list.head.next = second; # Link first node with second\n",
    "    second.next = third; # Link second node with the third node\n",
    "\n",
    "    list.printList()\n"
   ]
  },
  {
   "cell_type": "markdown",
   "id": "6ec53b07",
   "metadata": {},
   "source": [
    "### Stack\n",
    "\n",
    "A stack is a linear data structure that stores items in a Last-In/First-Out (LIFO) or First-In/Last-Out (FILO) manner. In stack, a new element is added at one end and an element is removed from that end only. The insert and delete operations are often called push and pop.\n",
    "\n",
    "Stack in python\n",
    "\n",
    "The functions associated with stack are:\n",
    "\n",
    "    empty() – Returns whether the stack is empty – Time Complexity: O(1)\n",
    "    size() – Returns the size of the stack – Time Complexity: O(1)\n",
    "    top() – Returns a reference to the topmost element of the stack – Time Complexity: O(1)\n",
    "    push(a) – Inserts the element ‘a’ at the top of the stack – Time Complexity: O(1)\n",
    "    pop() – Deletes the topmost element of the stack – Time Complexity: O(1)\n",
    "\n",
    "Python Stack Implementation\n",
    "\n",
    "Stack in Python can be implemented using the following ways:\n",
    "\n",
    "    list\n",
    "    Collections.deque\n",
    "    queue.LifoQueue\n",
    "\n",
    "#### Implementation using List\n",
    "\n",
    "Python’s built-in data structure list can be used as a stack. Instead of push(), append() is used to add elements to the top of the stack while pop() removes the element in LIFO order. "
   ]
  },
  {
   "cell_type": "code",
   "execution_count": 23,
   "id": "cc12c7ca",
   "metadata": {},
   "outputs": [
    {
     "name": "stdout",
     "output_type": "stream",
     "text": [
      "Initial stack\n",
      "['g', 'f', 'g']\n",
      "\n",
      "Elements popped from stack:\n",
      "g\n",
      "f\n",
      "g\n",
      "\n",
      "Stack after elements are popped:\n",
      "[]\n"
     ]
    }
   ],
   "source": [
    "stack = []\n",
    "\n",
    "# append() function to push\n",
    "# element in the stack\n",
    "stack.append('g')\n",
    "stack.append('f')\n",
    "stack.append('g')\n",
    "\n",
    "print('Initial stack')\n",
    "print(stack)\n",
    "\n",
    "# pop() function to pop\n",
    "# element from stack in\n",
    "# LIFO order\n",
    "print('\\nElements popped from stack:')\n",
    "print(stack.pop())\n",
    "print(stack.pop())\n",
    "print(stack.pop())\n",
    "\n",
    "print('\\nStack after elements are popped:')\n",
    "print(stack)\n",
    "\n",
    "# uncommenting print(stack.pop())\n",
    "# will cause an IndexError\n",
    "# as the stack is now empty\n"
   ]
  },
  {
   "cell_type": "markdown",
   "id": "61ce6f1a",
   "metadata": {},
   "source": [
    "#### Implementation using collections.deque:\n",
    "\n",
    "Python stack can be implemented using the deque class from the collections module. Deque is preferred over the list in the cases where we need quicker append and pop operations from both the ends of the container, as deque provides an O(1) time complexity for append and pop operations as compared to list which provides O(n) time complexity. "
   ]
  },
  {
   "cell_type": "code",
   "execution_count": 24,
   "id": "fbeea5c7",
   "metadata": {},
   "outputs": [
    {
     "name": "stdout",
     "output_type": "stream",
     "text": [
      "Initial stack:\n",
      "deque(['g', 'f', 'g'])\n",
      "\n",
      "Elements popped from stack:\n",
      "g\n",
      "f\n",
      "g\n",
      "\n",
      "Stack after elements are popped:\n",
      "deque([])\n"
     ]
    }
   ],
   "source": [
    "from collections import deque\n",
    "\n",
    "stack = deque()\n",
    "\n",
    "# append() function to push\n",
    "# element in the stack\n",
    "stack.append('g')\n",
    "stack.append('f')\n",
    "stack.append('g')\n",
    "\n",
    "print('Initial stack:')\n",
    "print(stack)\n",
    "\n",
    "# pop() function to pop\n",
    "# element from stack in\n",
    "# LIFO order\n",
    "print('\\nElements popped from stack:')\n",
    "print(stack.pop())\n",
    "print(stack.pop())\n",
    "print(stack.pop())\n",
    "\n",
    "print('\\nStack after elements are popped:')\n",
    "print(stack)\n",
    "\n",
    "# uncommenting print(stack.pop())\n",
    "# will cause an IndexError\n",
    "# as the stack is now empty\n"
   ]
  },
  {
   "cell_type": "markdown",
   "id": "de7eb4c6",
   "metadata": {},
   "source": [
    "#### Implementation using queue module\n",
    "\n",
    "The queue module also has a LIFO Queue, which is basically a Stack. Data is inserted into Queue using the put() function and get() takes data out from the Queue. "
   ]
  },
  {
   "cell_type": "code",
   "execution_count": 25,
   "id": "76d07faa",
   "metadata": {},
   "outputs": [
    {
     "name": "stdout",
     "output_type": "stream",
     "text": [
      "0\n",
      "Full:  True\n",
      "Size:  3\n",
      "\n",
      "Elements popped from the stack\n",
      "g\n",
      "f\n",
      "g\n",
      "\n",
      "Empty:  True\n"
     ]
    }
   ],
   "source": [
    "from queue import LifoQueue\n",
    "\n",
    "# Initializing a stack\n",
    "stack = LifoQueue(maxsize = 3)\n",
    "\n",
    "# qsize() show the number of elements\n",
    "# in the stack\n",
    "print(stack.qsize())\n",
    "\n",
    "# put() function to push\n",
    "# element in the stack\n",
    "stack.put('g')\n",
    "stack.put('f')\n",
    "stack.put('g')\n",
    "\n",
    "print(\"Full: \", stack.full())\n",
    "print(\"Size: \", stack.qsize())\n",
    "\n",
    "# get() function to pop\n",
    "# element from stack in\n",
    "# LIFO order\n",
    "print('\\nElements popped from the stack')\n",
    "print(stack.get())\n",
    "print(stack.get())\n",
    "print(stack.get())\n",
    "\n",
    "print(\"\\nEmpty: \", stack.empty())\n"
   ]
  },
  {
   "cell_type": "markdown",
   "id": "45b80ecb",
   "metadata": {},
   "source": [
    "### Queue\n",
    "\n",
    "As a stack, the queue is a linear data structure that stores items in a First In First Out (FIFO) manner. With a queue, the least recently added item is removed first. A good example of the queue is any queue of consumers for a resource where the consumer that came first is served first.\n",
    "\n",
    "Queue in Python\n",
    "\n",
    "Operations associated with queue are:\n",
    "\n",
    "    Enqueue: Adds an item to the queue. If the queue is full, then it is said to be an Overflow condition – Time Complexity: O(1)\n",
    "    Dequeue: Removes an item from the queue. The items are popped in the same order in which they are pushed. If the queue is empty, then it is said to be an Underflow condition – Time Complexity: O(1)\n",
    "    Front: Get the front item from queue – Time Complexity: O(1)\n",
    "    Rear: Get the last item from queue – Time Complexity: O(1)\n",
    "\n",
    "Python queue Implementation\n",
    "\n",
    "Queue in Python can be implemented in the following ways:\n",
    "\n",
    "    list\n",
    "    collections.deque\n",
    "    queue.Queue\n",
    "\n",
    "Implementation using list\n",
    "\n",
    "Instead of enqueue() and dequeue(), append() and pop() function is used."
   ]
  },
  {
   "cell_type": "code",
   "execution_count": 26,
   "id": "23a05b8a",
   "metadata": {},
   "outputs": [
    {
     "name": "stdout",
     "output_type": "stream",
     "text": [
      "Initial queue\n",
      "['g', 'f', 'g']\n",
      "\n",
      "Elements dequeued from queue\n",
      "g\n",
      "f\n",
      "g\n",
      "\n",
      "Queue after removing elements\n",
      "[]\n"
     ]
    }
   ],
   "source": [
    "# Initializing a queue\n",
    "queue = []\n",
    "\n",
    "# Adding elements to the queue\n",
    "queue.append('g')\n",
    "queue.append('f')\n",
    "queue.append('g')\n",
    "\n",
    "print(\"Initial queue\")\n",
    "print(queue)\n",
    "\n",
    "# Removing elements from the queue\n",
    "print(\"\\nElements dequeued from queue\")\n",
    "print(queue.pop(0))\n",
    "print(queue.pop(0))\n",
    "print(queue.pop(0))\n",
    "\n",
    "print(\"\\nQueue after removing elements\")\n",
    "print(queue)\n",
    "\n",
    "# Uncommenting print(queue.pop(0))\n",
    "# will raise and IndexError\n",
    "# as the queue is now empty\n"
   ]
  },
  {
   "cell_type": "markdown",
   "id": "b506af2b",
   "metadata": {},
   "source": [
    "#### Implementation using collections.deque\n",
    "\n",
    "Deque is preferred over the list in the cases where we need quicker append and pop operations from both the ends of the container, as deque provides an O(1) time complexity for append and pop operations as compared to list which provides O(n) time complexity."
   ]
  },
  {
   "cell_type": "code",
   "execution_count": 27,
   "id": "ea26b24f",
   "metadata": {},
   "outputs": [
    {
     "name": "stdout",
     "output_type": "stream",
     "text": [
      "Initial queue\n",
      "deque(['g', 'f', 'g'])\n",
      "\n",
      "Elements dequeued from the queue\n",
      "g\n",
      "f\n",
      "g\n",
      "\n",
      "Queue after removing elements\n",
      "deque([])\n"
     ]
    }
   ],
   "source": [
    "from collections import deque\n",
    "\n",
    "# Initializing a queue\n",
    "q = deque()\n",
    "\n",
    "# Adding elements to a queue\n",
    "q.append('g')\n",
    "q.append('f')\n",
    "q.append('g')\n",
    "\n",
    "print(\"Initial queue\")\n",
    "print(q)\n",
    "\n",
    "# Removing elements from a queue\n",
    "print(\"\\nElements dequeued from the queue\")\n",
    "print(q.popleft())\n",
    "print(q.popleft())\n",
    "print(q.popleft())\n",
    "\n",
    "print(\"\\nQueue after removing elements\")\n",
    "print(q)\n",
    "\n",
    "# Uncommenting q.popleft()\n",
    "# will raise an IndexError\n",
    "# as queue is now empty\n"
   ]
  },
  {
   "cell_type": "markdown",
   "id": "ba3f730c",
   "metadata": {},
   "source": [
    "#### Implementation using the queue.Queue\n",
    "\n",
    "queue.Queue(maxsize) initializes a variable to a maximum size of maxsize. A maxsize of zero ‘0’ means an infinite queue. This Queue follows the FIFO rule. "
   ]
  },
  {
   "cell_type": "code",
   "execution_count": 28,
   "id": "ddf892fa",
   "metadata": {},
   "outputs": [
    {
     "name": "stdout",
     "output_type": "stream",
     "text": [
      "0\n",
      "\n",
      "Full:  True\n",
      "\n",
      "Elements dequeued from the queue\n",
      "g\n",
      "f\n",
      "g\n",
      "\n",
      "Empty:  True\n",
      "\n",
      "Empty:  False\n",
      "Full:  False\n"
     ]
    }
   ],
   "source": [
    "from queue import Queue\n",
    "\n",
    "# Initializing a queue\n",
    "q = Queue(maxsize = 3)\n",
    "\n",
    "# qsize() give the maxsize\n",
    "# of the Queue\n",
    "print(q.qsize())\n",
    "\n",
    "# Adding of element to queue\n",
    "q.put('g')\n",
    "q.put('f')\n",
    "q.put('g')\n",
    "\n",
    "# Return Boolean for Full\n",
    "# Queue\n",
    "print(\"\\nFull: \", q.full())\n",
    "\n",
    "# Removing element from queue\n",
    "print(\"\\nElements dequeued from the queue\")\n",
    "print(q.get())\n",
    "print(q.get())\n",
    "print(q.get())\n",
    "\n",
    "# Return Boolean for Empty\n",
    "# Queue\n",
    "print(\"\\nEmpty: \", q.empty())\n",
    "\n",
    "q.put(1)\n",
    "print(\"\\nEmpty: \", q.empty())\n",
    "print(\"Full: \", q.full())\n",
    "\n",
    "# This would result into Infinite\n",
    "# Loop as the Queue is empty.\n",
    "# print(q.get())\n"
   ]
  },
  {
   "cell_type": "markdown",
   "id": "f1e403d9",
   "metadata": {},
   "source": [
    "### Priority Queue\n",
    "\n",
    "Priority Queues are abstract data structures where each data/value in the queue has a certain priority. For example, In airlines, baggage with the title “Business” or “First-class” arrives earlier than the rest. Priority Queue is an extension of the queue with the following properties.\n",
    "\n",
    "    An element with high priority is dequeued before an element with low priority.\n",
    "    If two elements have the same priority, they are served according to their order in the queue."
   ]
  },
  {
   "cell_type": "code",
   "execution_count": 30,
   "id": "98df730d",
   "metadata": {},
   "outputs": [
    {
     "name": "stdout",
     "output_type": "stream",
     "text": [
      "12 1 14 7\n",
      "14\n",
      "12\n",
      "7\n",
      "1\n"
     ]
    }
   ],
   "source": [
    "# A simple implementation of Priority Queue\n",
    "# using Queue.\n",
    "class PriorityQueue(object):\n",
    "    def __init__(self):\n",
    "        self.queue = []\n",
    "\n",
    "    def __str__(self):\n",
    "        return ' '.join([str(i) for i in self.queue])\n",
    "\n",
    "    # for checking if the queue is empty\n",
    "    def isEmpty(self):\n",
    "        return len(self.queue) == 0\n",
    "\n",
    "    # for inserting an element in the queue\n",
    "    def insert(self, data):\n",
    "        self.queue.append(data)\n",
    "\n",
    "    # for popping an element based on Priority\n",
    "    def delete(self):\n",
    "        try:\n",
    "            max = 0\n",
    "            for i in range(len(self.queue)):\n",
    "                if self.queue[i] > self.queue[max]:\n",
    "                    max = i\n",
    "            item = self.queue[max]\n",
    "            del self.queue[max]\n",
    "            return item\n",
    "        except IndexError:\n",
    "            print()\n",
    "            exit()\n",
    "\n",
    "if __name__ == '__main__':\n",
    "    myQueue = PriorityQueue()\n",
    "    myQueue.insert(12)\n",
    "    myQueue.insert(1)\n",
    "    myQueue.insert(14)\n",
    "    myQueue.insert(7)\n",
    "    print(myQueue)            \n",
    "    while not myQueue.isEmpty():\n",
    "        print(myQueue.delete())\n"
   ]
  },
  {
   "cell_type": "markdown",
   "id": "dabd1753",
   "metadata": {},
   "source": [
    "#### Heap queue (or heapq)\n",
    "\n",
    "heapq module in Python provides the heap data structure that is mainly used to represent a priority queue. The property of this data structure in Python is that each time the smallest heap element is popped(min-heap). Whenever elements are pushed or popped, heap structure is maintained. The heap[0] element also returns the smallest element each time. \n",
    "\n",
    "It supports the extraction and insertion of the smallest element in the O(log n) times."
   ]
  },
  {
   "cell_type": "code",
   "execution_count": 31,
   "id": "41c62655",
   "metadata": {},
   "outputs": [
    {
     "name": "stdout",
     "output_type": "stream",
     "text": [
      "The created heap is : "
     ]
    },
    {
     "ename": "TypeError",
     "evalue": "'LinkedList' object is not callable",
     "output_type": "error",
     "traceback": [
      "\u001b[0;31m---------------------------------------------------------------------------\u001b[0m",
      "\u001b[0;31mTypeError\u001b[0m                                 Traceback (most recent call last)",
      "Cell \u001b[0;32mIn[31], line 12\u001b[0m\n\u001b[1;32m     10\u001b[0m \u001b[38;5;66;03m# printing created heap\u001b[39;00m\n\u001b[1;32m     11\u001b[0m \u001b[38;5;28mprint\u001b[39m (\u001b[38;5;124m\"\u001b[39m\u001b[38;5;124mThe created heap is : \u001b[39m\u001b[38;5;124m\"\u001b[39m,end\u001b[38;5;241m=\u001b[39m\u001b[38;5;124m\"\u001b[39m\u001b[38;5;124m\"\u001b[39m)\n\u001b[0;32m---> 12\u001b[0m \u001b[38;5;28mprint\u001b[39m (\u001b[38;5;28;43mlist\u001b[39;49m\u001b[43m(\u001b[49m\u001b[43mli\u001b[49m\u001b[43m)\u001b[49m)\n\u001b[1;32m     14\u001b[0m \u001b[38;5;66;03m# using heappush() to push elements into heap\u001b[39;00m\n\u001b[1;32m     15\u001b[0m \u001b[38;5;66;03m# pushes 4\u001b[39;00m\n\u001b[1;32m     16\u001b[0m heapq\u001b[38;5;241m.\u001b[39mheappush(li,\u001b[38;5;241m4\u001b[39m)\n",
      "\u001b[0;31mTypeError\u001b[0m: 'LinkedList' object is not callable"
     ]
    }
   ],
   "source": [
    "# importing \"heapq\" to implement heap queue\n",
    "import heapq\n",
    "\n",
    "# initializing list\n",
    "li = [5, 7, 9, 1, 3]\n",
    "\n",
    "# using heapify to convert list into heap\n",
    "heapq.heapify(li)\n",
    "\n",
    "# printing created heap\n",
    "print (\"The created heap is : \",end=\"\")\n",
    "print (list(li))\n",
    "\n",
    "# using heappush() to push elements into heap\n",
    "# pushes 4\n",
    "heapq.heappush(li,4)\n",
    "\n",
    "# printing modified heap\n",
    "print (\"The modified heap after push is : \",end=\"\")\n",
    "print (list(li))\n",
    "\n",
    "# using heappop() to pop smallest element\n",
    "print (\"The popped and smallest element is : \",end=\"\")\n",
    "print (heapq.heappop(li))\n"
   ]
  },
  {
   "cell_type": "markdown",
   "id": "48296bcf",
   "metadata": {},
   "source": [
    "### Binary Tree\n",
    "\n",
    "A tree is a  hierarchical data structure that looks like the below figure – \n",
    "\n",
    "      tree\n",
    "     ----\n",
    "      j    <-- root\n",
    "    /   \\\n",
    "   f      k  \n",
    " /   \\      \\\n",
    "a     h      z    <-- leaves\n",
    "\n",
    "The topmost node of the tree is called the root whereas the bottommost nodes or the nodes with no children are called the leaf nodes. The nodes that are directly under a node are called its children and the nodes that are directly above something are called its parent.\n",
    "\n",
    "A binary tree is a tree whose elements can have almost two children. Since each element in a binary tree can have only 2 children, we typically name them the left and right children. A Binary Tree node contains the following parts.\n",
    "\n",
    "    Data\n",
    "    Pointer to left child\n",
    "    Pointer to the right child\n",
    "\n",
    "Example: Defining Node Class"
   ]
  },
  {
   "cell_type": "code",
   "execution_count": 32,
   "id": "c3c50fe9",
   "metadata": {},
   "outputs": [],
   "source": [
    "# A Python class that represents an individual node\n",
    "# in a Binary Tree\n",
    "class Node:\n",
    "    def __init__(self,key):\n",
    "        self.left = None\n",
    "        self.right = None\n",
    "        self.val = key\n"
   ]
  },
  {
   "cell_type": "markdown",
   "id": "f922b574",
   "metadata": {},
   "source": [
    "Now let’s create a tree with 4 nodes in Python. Let’s assume the tree structure looks like below – \n",
    "\n",
    "      tree\n",
    "     ----\n",
    "      1    <-- root\n",
    "    /   \\\n",
    "   2     3  \n",
    "  /  \n",
    " 4\n",
    "\n",
    "Example: Adding data to the tree"
   ]
  },
  {
   "cell_type": "code",
   "execution_count": 33,
   "id": "95273b9e",
   "metadata": {},
   "outputs": [
    {
     "name": "stderr",
     "output_type": "stream",
     "text": [
      "<>:22: SyntaxWarning: invalid escape sequence '\\ '\n",
      "<>:31: SyntaxWarning: invalid escape sequence '\\ '\n",
      "<>:22: SyntaxWarning: invalid escape sequence '\\ '\n",
      "<>:31: SyntaxWarning: invalid escape sequence '\\ '\n",
      "/tmp/ipykernel_310919/3558779757.py:22: SyntaxWarning: invalid escape sequence '\\ '\n",
      "  ''' 2 and 3 become left and right children of 1\n",
      "/tmp/ipykernel_310919/3558779757.py:31: SyntaxWarning: invalid escape sequence '\\ '\n",
      "  '''4 becomes left child of 2\n"
     ]
    },
    {
     "data": {
      "text/plain": [
       "'4 becomes left child of 2\\n        1\\n    /         2         3\\n    / \\\\     / 4 None None None\\n/ None None'"
      ]
     },
     "execution_count": 33,
     "metadata": {},
     "output_type": "execute_result"
    }
   ],
   "source": [
    "# Python program to introduce Binary Tree\n",
    "\n",
    "# A class that represents an individual node in a\n",
    "# Binary Tree\n",
    "class Node:\n",
    "    def __init__(self,key):\n",
    "        self.left = None\n",
    "        self.right = None\n",
    "        self.val = key\n",
    "\n",
    "\n",
    "# create root\n",
    "root = Node(1)\n",
    "''' following is the tree after above statement\n",
    "        1\n",
    "    / \\\n",
    "    None None'''\n",
    "\n",
    "root.left     = Node(2);\n",
    "root.right     = Node(3);\n",
    "\n",
    "''' 2 and 3 become left and right children of 1\n",
    "        1\n",
    "        / \\\n",
    "        2     3\n",
    "    / \\ / \\\n",
    "None None None None'''\n",
    "\n",
    "\n",
    "root.left.left = Node(4);\n",
    "'''4 becomes left child of 2\n",
    "        1\n",
    "    /     \\\n",
    "    2         3\n",
    "    / \\     / \\\n",
    "4 None None None\n",
    "/ \\\n",
    "None None'''\n"
   ]
  },
  {
   "cell_type": "markdown",
   "id": "8964a4a6",
   "metadata": {},
   "source": [
    "#### Tree Traversal\n",
    "\n",
    "Trees can be traversed in different ways. Following are the generally used ways for traversing trees. Let us consider the below tree – \n",
    "\n",
    "      tree\n",
    "     ----\n",
    "      1    <-- root\n",
    "    /   \\\n",
    "   2     3  \n",
    "  / \\\n",
    " 4   5\n",
    "\n",
    "Depth First Traversals:\n",
    "\n",
    "    Inorder (Left, Root, Right) : 4 2 5 1 3\n",
    "    Preorder (Root, Left, Right) : 1 2 4 5 3\n",
    "    Postorder (Left, Right, Root) : 4 5 2 3 1\n",
    "\n",
    "Algorithm Inorder(tree)\n",
    "\n",
    "    Traverse the left subtree, i.e., call Inorder(left-subtree)\n",
    "    Visit the root.\n",
    "    Traverse the right subtree, i.e., call Inorder(right-subtree)\n",
    "\n",
    "Algorithm Preorder(tree)\n",
    "\n",
    "    Visit the root.\n",
    "    Traverse the left subtree, i.e., call Preorder(left-subtree)\n",
    "    Traverse the right subtree, i.e., call Preorder(right-subtree)\n",
    "\n",
    "Algorithm Postorder(tree)\n",
    "\n",
    "    Traverse the left subtree, i.e., call Postorder(left-subtree)\n",
    "    Traverse the right subtree, i.e., call Postorder(right-subtree)\n",
    "    Visit the root."
   ]
  },
  {
   "cell_type": "code",
   "execution_count": 34,
   "id": "fb474205",
   "metadata": {},
   "outputs": [
    {
     "name": "stdout",
     "output_type": "stream",
     "text": [
      "Preorder traversal of binary tree is\n",
      "1\n",
      "2\n",
      "4\n",
      "5\n",
      "3\n",
      "\n",
      "Inorder traversal of binary tree is\n",
      "4\n",
      "2\n",
      "5\n",
      "1\n",
      "3\n",
      "\n",
      "Postorder traversal of binary tree is\n",
      "4\n",
      "5\n",
      "2\n",
      "3\n",
      "1\n"
     ]
    }
   ],
   "source": [
    "# Python program to for tree traversals\n",
    "\n",
    "# A class that represents an individual node in a\n",
    "# Binary Tree\n",
    "class Node:\n",
    "    def __init__(self, key):\n",
    "        self.left = None\n",
    "        self.right = None\n",
    "        self.val = key\n",
    "\n",
    "\n",
    "# A function to do inorder tree traversal\n",
    "def printInorder(root):\n",
    "\n",
    "    if root:\n",
    "\n",
    "        # First recur on left child\n",
    "        printInorder(root.left)\n",
    "\n",
    "        # then print the data of node\n",
    "        print(root.val),\n",
    "\n",
    "        # now recur on right child\n",
    "        printInorder(root.right)\n",
    "\n",
    "\n",
    "# A function to do postorder tree traversal\n",
    "def printPostorder(root):\n",
    "\n",
    "    if root:\n",
    "\n",
    "        # First recur on left child\n",
    "        printPostorder(root.left)\n",
    "\n",
    "        # the recur on right child\n",
    "        printPostorder(root.right)\n",
    "\n",
    "        # now print the data of node\n",
    "        print(root.val),\n",
    "\n",
    "\n",
    "# A function to do preorder tree traversal\n",
    "def printPreorder(root):\n",
    "\n",
    "    if root:\n",
    "\n",
    "        # First print the data of node\n",
    "        print(root.val),\n",
    "\n",
    "        # Then recur on left child\n",
    "        printPreorder(root.left)\n",
    "\n",
    "        # Finally recur on right child\n",
    "        printPreorder(root.right)\n",
    "\n",
    "\n",
    "# Driver code\n",
    "root = Node(1)\n",
    "root.left = Node(2)\n",
    "root.right = Node(3)\n",
    "root.left.left = Node(4)\n",
    "root.left.right = Node(5)\n",
    "print(\"Preorder traversal of binary tree is\")\n",
    "printPreorder(root)\n",
    "\n",
    "print(\"\\nInorder traversal of binary tree is\")\n",
    "printInorder(root)\n",
    "\n",
    "print(\"\\nPostorder traversal of binary tree is\")\n",
    "printPostorder(root)\n"
   ]
  },
  {
   "cell_type": "markdown",
   "id": "7b98c66c",
   "metadata": {},
   "source": [
    "Time Complexity –  O(n) \n",
    "\n",
    "#### Breadth-First or Level Order Traversal\n",
    "\n",
    "Level order traversal of a tree is breadth-first traversal for the tree. The level order traversal of the above tree is 1 2 3 4 5.\n",
    "\n",
    "For each node, first, the node is visited and then its child nodes are put in a FIFO queue. Below is the algorithm for the same – \n",
    "\n",
    "    Create an empty queue q\n",
    "    temp_node = root /*start from root*/\n",
    "    Loop while temp_node is not NULL\n",
    "        print temp_node->data.\n",
    "        Enqueue temp_node’s children (first left then right children) to q\n",
    "        Dequeue a node from q"
   ]
  },
  {
   "cell_type": "code",
   "execution_count": 35,
   "id": "4582b57d",
   "metadata": {},
   "outputs": [
    {
     "name": "stdout",
     "output_type": "stream",
     "text": [
      "Level Order Traversal of binary tree is -\n",
      "1\n",
      "2\n",
      "3\n",
      "4\n",
      "5\n"
     ]
    }
   ],
   "source": [
    "# Python program to print level\n",
    "# order traversal using Queue\n",
    "\n",
    "# A node structure\n",
    "class Node:\n",
    "  \n",
    "    # A utility function to create a new node\n",
    "    def __init__(self ,key):\n",
    "        self.data = key\n",
    "        self.left = None\n",
    "        self.right = None\n",
    "\n",
    "# Iterative Method to print the\n",
    "# height of a binary tree\n",
    "def printLevelOrder(root):\n",
    "  \n",
    "    # Base Case\n",
    "    if root is None:\n",
    "        return\n",
    "    \n",
    "    # Create an empty queue\n",
    "    # for level order traversal\n",
    "    queue = []\n",
    "\n",
    "    # Enqueue Root and initialize height\n",
    "    queue.append(root)\n",
    "\n",
    "    while(len(queue) > 0):\n",
    "    \n",
    "        # Print front of queue and\n",
    "        # remove it from queue\n",
    "        print (queue[0].data)\n",
    "        node = queue.pop(0)\n",
    "\n",
    "        # Enqueue left child\n",
    "        if node.left is not None:\n",
    "            queue.append(node.left)\n",
    "\n",
    "        # Enqueue right child\n",
    "        if node.right is not None:\n",
    "            queue.append(node.right)\n",
    "\n",
    "# Driver Program to test above function\n",
    "root = Node(1)\n",
    "root.left = Node(2)\n",
    "root.right = Node(3)\n",
    "root.left.left = Node(4)\n",
    "root.left.right = Node(5)\n",
    "\n",
    "print (\"Level Order Traversal of binary tree is -\")\n",
    "printLevelOrder(root)\n"
   ]
  },
  {
   "cell_type": "markdown",
   "id": "df88ace9",
   "metadata": {},
   "source": [
    "Time Complexity: O(n) \n",
    "### Graph\n",
    "\n",
    "A graph is a nonlinear data structure consisting of nodes and edges. The nodes are sometimes also referred to as vertices and the edges are lines or arcs that connect any two nodes in the graph. More formally a Graph can be defined as a Graph consisting of a finite set of vertices(or nodes) and a set of edges that connect a pair of nodes.\n",
    "\n",
    "In the above Graph, the set of vertices V = {0,1,2,3,4} and the set of edges E = {01, 12, 23, 34, 04, 14, 13}.\n",
    "\n",
    "The following two are the most commonly used representations of a graph.\n",
    "\n",
    "    Adjacency Matrix\n",
    "    Adjacency List\n",
    "\n",
    "Adjacency Matrix\n",
    "\n",
    "Adjacency Matrix is a 2D array of size V x V where V is the number of vertices in a graph. Let the 2D array be adj[][], a slot adj[i][j] = 1 indicates that there is an edge from vertex i to vertex j. The adjacency matrix for an undirected graph is always symmetric. Adjacency Matrix is also used to represent weighted graphs. If adj[i][j] = w, then there is an edge from vertex i to vertex j with weight w. "
   ]
  },
  {
   "cell_type": "code",
   "execution_count": 36,
   "id": "4c3498fe",
   "metadata": {},
   "outputs": [
    {
     "name": "stdout",
     "output_type": "stream",
     "text": [
      "Vertices of Graph\n",
      "['a', 'b', 'c', 'd', 'e', 'f']\n",
      "Edges of Graph\n",
      "[('a', 'c', 20), ('a', 'e', 10), ('b', 'c', 30), ('b', 'e', 40), ('c', 'a', 20), ('c', 'b', 30), ('d', 'e', 50), ('e', 'a', 10), ('e', 'b', 40), ('e', 'd', 50), ('e', 'f', 60), ('f', 'e', 60)]\n",
      "Adjacency Matrix of Graph\n",
      "[[-1, -1, 20, -1, 10, -1], [-1, -1, 30, -1, 40, -1], [20, 30, -1, -1, -1, -1], [-1, -1, -1, -1, 50, -1], [10, 40, -1, 50, -1, 60], [-1, -1, -1, -1, 60, -1]]\n"
     ]
    }
   ],
   "source": [
    "# A simple representation of graph using Adjacency Matrix\n",
    "class Graph:\n",
    "    def __init__(self,numvertex):\n",
    "        self.adjMatrix = [[-1]*numvertex for x in range(numvertex)]\n",
    "        self.numvertex = numvertex\n",
    "        self.vertices = {}\n",
    "        self.verticeslist =[0]*numvertex\n",
    "\n",
    "    def set_vertex(self,vtx,id):\n",
    "        if 0<=vtx<=self.numvertex:\n",
    "            self.vertices[id] = vtx\n",
    "            self.verticeslist[vtx] = id\n",
    "\n",
    "    def set_edge(self,frm,to,cost=0):\n",
    "        frm = self.vertices[frm]\n",
    "        to = self.vertices[to]\n",
    "        self.adjMatrix[frm][to] = cost\n",
    "        \n",
    "        # for directed graph do not add this\n",
    "        self.adjMatrix[to][frm] = cost\n",
    "\n",
    "    def get_vertex(self):\n",
    "        return self.verticeslist\n",
    "\n",
    "    def get_edges(self):\n",
    "        edges=[]\n",
    "        for i in range (self.numvertex):\n",
    "            for j in range (self.numvertex):\n",
    "                if (self.adjMatrix[i][j]!=-1):\n",
    "                    edges.append((self.verticeslist[i],self.verticeslist[j],self.adjMatrix[i][j]))\n",
    "        return edges\n",
    "        \n",
    "    def get_matrix(self):\n",
    "        return self.adjMatrix\n",
    "\n",
    "G =Graph(6)\n",
    "G.set_vertex(0,'a')\n",
    "G.set_vertex(1,'b')\n",
    "G.set_vertex(2,'c')\n",
    "G.set_vertex(3,'d')\n",
    "G.set_vertex(4,'e')\n",
    "G.set_vertex(5,'f')\n",
    "G.set_edge('a','e',10)\n",
    "G.set_edge('a','c',20)\n",
    "G.set_edge('c','b',30)\n",
    "G.set_edge('b','e',40)\n",
    "G.set_edge('e','d',50)\n",
    "G.set_edge('f','e',60)\n",
    "\n",
    "print(\"Vertices of Graph\")\n",
    "print(G.get_vertex())\n",
    "\n",
    "print(\"Edges of Graph\")\n",
    "print(G.get_edges())\n",
    "\n",
    "print(\"Adjacency Matrix of Graph\")\n",
    "print(G.get_matrix())\n"
   ]
  },
  {
   "cell_type": "markdown",
   "id": "46ead316",
   "metadata": {},
   "source": [
    "#### Adjacency List\n",
    "\n",
    "An array of lists is used. The size of the array is equal to the number of vertices. Let the array be an array[]. An entry array[i] represents the list of vertices adjacent to the ith vertex. This representation can also be used to represent a weighted graph. The weights of edges can be represented as lists of pairs. Following is the adjacency list representation of the above graph. \n",
    "\n",
    "Adjacency List Representation of Graph"
   ]
  },
  {
   "cell_type": "code",
   "execution_count": 37,
   "id": "eec963ae",
   "metadata": {},
   "outputs": [
    {
     "name": "stdout",
     "output_type": "stream",
     "text": [
      "Adjacency list of vertex 0\n",
      " head -> 4 -> 1 \n",
      "\n",
      "Adjacency list of vertex 1\n",
      " head -> 4 -> 3 -> 2 -> 0 \n",
      "\n",
      "Adjacency list of vertex 2\n",
      " head -> 3 -> 1 \n",
      "\n",
      "Adjacency list of vertex 3\n",
      " head -> 4 -> 2 -> 1 \n",
      "\n",
      "Adjacency list of vertex 4\n",
      " head -> 3 -> 1 -> 0 \n",
      "\n"
     ]
    }
   ],
   "source": [
    "# A class to represent the adjacency list of the node\n",
    "class AdjNode:\n",
    "    def __init__(self, data):\n",
    "        self.vertex = data\n",
    "        self.next = None\n",
    "\n",
    "\n",
    "# A class to represent a graph. A graph\n",
    "# is the list of the adjacency lists.\n",
    "# Size of the array will be the no. of the\n",
    "# vertices \"V\"\n",
    "class Graph:\n",
    "    def __init__(self, vertices):\n",
    "        self.V = vertices\n",
    "        self.graph = [None] * self.V\n",
    "\n",
    "    # Function to add an edge in an undirected graph\n",
    "    def add_edge(self, src, dest):\n",
    "      \n",
    "        # Adding the node to the source node\n",
    "        node = AdjNode(dest)\n",
    "        node.next = self.graph[src]\n",
    "        self.graph[src] = node\n",
    "\n",
    "        # Adding the source node to the destination as\n",
    "        # it is the undirected graph\n",
    "        node = AdjNode(src)\n",
    "        node.next = self.graph[dest]\n",
    "        self.graph[dest] = node\n",
    "\n",
    "    # Function to print the graph\n",
    "    def print_graph(self):\n",
    "        for i in range(self.V):\n",
    "            print(\"Adjacency list of vertex {}\\n head\".format(i), end=\"\")\n",
    "            temp = self.graph[i]\n",
    "            while temp:\n",
    "                print(\" -> {}\".format(temp.vertex), end=\"\")\n",
    "                temp = temp.next\n",
    "            print(\" \\n\")\n",
    "\n",
    "\n",
    "# Driver program to the above graph class\n",
    "if __name__ == \"__main__\":\n",
    "    V = 5\n",
    "    graph = Graph(V)\n",
    "    graph.add_edge(0, 1)\n",
    "    graph.add_edge(0, 4)\n",
    "    graph.add_edge(1, 2)\n",
    "    graph.add_edge(1, 3)\n",
    "    graph.add_edge(1, 4)\n",
    "    graph.add_edge(2, 3)\n",
    "    graph.add_edge(3, 4)\n",
    "\n",
    "    graph.print_graph()\n"
   ]
  },
  {
   "cell_type": "markdown",
   "id": "bd5cfbe4",
   "metadata": {},
   "source": [
    "### Graph Traversal\n",
    "\n",
    "Breadth-First Search or BFS\n",
    "\n",
    "Breadth-First Traversal for a graph is similar to Breadth-First Traversal of a tree. The only catch here is, unlike trees, graphs may contain cycles, so we may come to the same node again. To avoid processing a node more than once, we use a boolean visited array. For simplicity, it is assumed that all vertices are reachable from the starting vertex.\n",
    "\n",
    "For example, in the following graph, we start traversal from vertex 2. When we come to vertex 0, we look for all adjacent vertices of it. 2 is also an adjacent vertex of 0. If we don’t mark visited vertices, then 2 will be processed again and it will become a non-terminating process. A Breadth-First Traversal of the following graph is 2, 0, 3, 1."
   ]
  },
  {
   "cell_type": "code",
   "execution_count": 38,
   "id": "0359a9a1",
   "metadata": {},
   "outputs": [
    {
     "ename": "TypeError",
     "evalue": "first argument must be callable or None",
     "output_type": "error",
     "traceback": [
      "\u001b[0;31m---------------------------------------------------------------------------\u001b[0m",
      "\u001b[0;31mTypeError\u001b[0m                                 Traceback (most recent call last)",
      "Cell \u001b[0;32mIn[38], line 54\u001b[0m\n\u001b[1;32m     48\u001b[0m                     visited[i] \u001b[38;5;241m=\u001b[39m \u001b[38;5;28;01mTrue\u001b[39;00m\n\u001b[1;32m     50\u001b[0m \u001b[38;5;66;03m# Driver code\u001b[39;00m\n\u001b[1;32m     51\u001b[0m \n\u001b[1;32m     52\u001b[0m \u001b[38;5;66;03m# Create a graph given in\u001b[39;00m\n\u001b[1;32m     53\u001b[0m \u001b[38;5;66;03m# the above diagram\u001b[39;00m\n\u001b[0;32m---> 54\u001b[0m g \u001b[38;5;241m=\u001b[39m \u001b[43mGraph\u001b[49m\u001b[43m(\u001b[49m\u001b[43m)\u001b[49m\n\u001b[1;32m     55\u001b[0m g\u001b[38;5;241m.\u001b[39maddEdge(\u001b[38;5;241m0\u001b[39m, \u001b[38;5;241m1\u001b[39m)\n\u001b[1;32m     56\u001b[0m g\u001b[38;5;241m.\u001b[39maddEdge(\u001b[38;5;241m0\u001b[39m, \u001b[38;5;241m2\u001b[39m)\n",
      "Cell \u001b[0;32mIn[38], line 14\u001b[0m, in \u001b[0;36mGraph.__init__\u001b[0;34m(self)\u001b[0m\n\u001b[1;32m     11\u001b[0m \u001b[38;5;28;01mdef\u001b[39;00m\u001b[38;5;250m \u001b[39m\u001b[38;5;21m__init__\u001b[39m(\u001b[38;5;28mself\u001b[39m):\n\u001b[1;32m     12\u001b[0m \n\u001b[1;32m     13\u001b[0m     \u001b[38;5;66;03m# default dictionary to store graph\u001b[39;00m\n\u001b[0;32m---> 14\u001b[0m     \u001b[38;5;28mself\u001b[39m\u001b[38;5;241m.\u001b[39mgraph \u001b[38;5;241m=\u001b[39m \u001b[43mdefaultdict\u001b[49m\u001b[43m(\u001b[49m\u001b[38;5;28;43mlist\u001b[39;49m\u001b[43m)\u001b[49m\n",
      "\u001b[0;31mTypeError\u001b[0m: first argument must be callable or None"
     ]
    }
   ],
   "source": [
    "# Python3 Program to print BFS traversal\n",
    "# from a given source vertex. BFS(int s)\n",
    "# traverses vertices reachable from s.\n",
    "from collections import defaultdict\n",
    "\n",
    "# This class represents a directed graph\n",
    "# using adjacency list representation\n",
    "class Graph:\n",
    "\n",
    "    # Constructor\n",
    "    def __init__(self):\n",
    "\n",
    "        # default dictionary to store graph\n",
    "        self.graph = defaultdict(list)\n",
    "\n",
    "    # function to add an edge to graph\n",
    "    def addEdge(self,u,v):\n",
    "        self.graph[u].append(v)\n",
    "\n",
    "    # Function to print a BFS of graph\n",
    "    def BFS(self, s):\n",
    "\n",
    "        # Mark all the vertices as not visited\n",
    "        visited = [False] * (max(self.graph) + 1)\n",
    "\n",
    "        # Create a queue for BFS\n",
    "        queue = []\n",
    "\n",
    "        # Mark the source node as\n",
    "        # visited and enqueue it\n",
    "        queue.append(s)\n",
    "        visited[s] = True\n",
    "\n",
    "        while queue:\n",
    "\n",
    "            # Dequeue a vertex from\n",
    "            # queue and print it\n",
    "            s = queue.pop(0)\n",
    "            print (s, end = \" \")\n",
    "\n",
    "            # Get all adjacent vertices of the\n",
    "            # dequeued vertex s. If a adjacent\n",
    "            # has not been visited, then mark it\n",
    "            # visited and enqueue it\n",
    "            for i in self.graph[s]:\n",
    "                if visited[i] == False:\n",
    "                    queue.append(i)\n",
    "                    visited[i] = True\n",
    "\n",
    "# Driver code\n",
    "\n",
    "# Create a graph given in\n",
    "# the above diagram\n",
    "g = Graph()\n",
    "g.addEdge(0, 1)\n",
    "g.addEdge(0, 2)\n",
    "g.addEdge(1, 2)\n",
    "g.addEdge(2, 0)\n",
    "g.addEdge(2, 3)\n",
    "g.addEdge(3, 3)\n",
    "\n",
    "print (\"Following is Breadth First Traversal\"\n",
    "                \" (starting from vertex 2)\")\n",
    "g.BFS(2)\n",
    "\n",
    "# This code is contributed by Neelam Yadav\n"
   ]
  },
  {
   "cell_type": "markdown",
   "id": "d390cc04",
   "metadata": {},
   "source": [
    "Time Complexity: O(V+E) where V is the number of vertices in the graph and E is the number of edges in the graph.\n",
    "\n",
    "### Depth First Search or DFS\n",
    "\n",
    "Depth First Traversal for a graph is similar to Depth First Traversal of a tree. The only catch here is, unlike trees, graphs may contain cycles, a node may be visited twice. To avoid processing a node more than once, use a boolean visited array.\n",
    "\n",
    "Algorithm:\n",
    "\n",
    "    Create a recursive function that takes the index of the node and a visited array.\n",
    "    Mark the current node as visited and print the node.\n",
    "    Traverse all the adjacent and unmarked nodes and call the recursive function with the index of the adjacent node."
   ]
  },
  {
   "cell_type": "code",
   "execution_count": 39,
   "id": "cff4d60b",
   "metadata": {},
   "outputs": [
    {
     "ename": "TypeError",
     "evalue": "first argument must be callable or None",
     "output_type": "error",
     "traceback": [
      "\u001b[0;31m---------------------------------------------------------------------------\u001b[0m",
      "\u001b[0;31mTypeError\u001b[0m                                 Traceback (most recent call last)",
      "Cell \u001b[0;32mIn[39], line 51\u001b[0m\n\u001b[1;32m     44\u001b[0m         \u001b[38;5;28mself\u001b[39m\u001b[38;5;241m.\u001b[39mDFSUtil(v, visited)\n\u001b[1;32m     46\u001b[0m \u001b[38;5;66;03m# Driver code\u001b[39;00m\n\u001b[1;32m     47\u001b[0m \n\u001b[1;32m     48\u001b[0m \n\u001b[1;32m     49\u001b[0m \u001b[38;5;66;03m# Create a graph given\u001b[39;00m\n\u001b[1;32m     50\u001b[0m \u001b[38;5;66;03m# in the above diagram\u001b[39;00m\n\u001b[0;32m---> 51\u001b[0m g \u001b[38;5;241m=\u001b[39m \u001b[43mGraph\u001b[49m\u001b[43m(\u001b[49m\u001b[43m)\u001b[49m\n\u001b[1;32m     52\u001b[0m g\u001b[38;5;241m.\u001b[39maddEdge(\u001b[38;5;241m0\u001b[39m, \u001b[38;5;241m1\u001b[39m)\n\u001b[1;32m     53\u001b[0m g\u001b[38;5;241m.\u001b[39maddEdge(\u001b[38;5;241m0\u001b[39m, \u001b[38;5;241m2\u001b[39m)\n",
      "Cell \u001b[0;32mIn[39], line 15\u001b[0m, in \u001b[0;36mGraph.__init__\u001b[0;34m(self)\u001b[0m\n\u001b[1;32m     12\u001b[0m \u001b[38;5;28;01mdef\u001b[39;00m\u001b[38;5;250m \u001b[39m\u001b[38;5;21m__init__\u001b[39m(\u001b[38;5;28mself\u001b[39m):\n\u001b[1;32m     13\u001b[0m \n\u001b[1;32m     14\u001b[0m     \u001b[38;5;66;03m# default dictionary to store graph\u001b[39;00m\n\u001b[0;32m---> 15\u001b[0m     \u001b[38;5;28mself\u001b[39m\u001b[38;5;241m.\u001b[39mgraph \u001b[38;5;241m=\u001b[39m \u001b[43mdefaultdict\u001b[49m\u001b[43m(\u001b[49m\u001b[38;5;28;43mlist\u001b[39;49m\u001b[43m)\u001b[49m\n",
      "\u001b[0;31mTypeError\u001b[0m: first argument must be callable or None"
     ]
    }
   ],
   "source": [
    "# Python3 program to print DFS traversal\n",
    "# from a given graph\n",
    "from collections import defaultdict\n",
    "\n",
    "# This class represents a directed graph using\n",
    "# adjacency list representation\n",
    "\n",
    "\n",
    "class Graph:\n",
    "\n",
    "    # Constructor\n",
    "    def __init__(self):\n",
    "\n",
    "        # default dictionary to store graph\n",
    "        self.graph = defaultdict(list)\n",
    "\n",
    "    # function to add an edge to graph\n",
    "    def addEdge(self, u, v):\n",
    "        self.graph[u].append(v)\n",
    "\n",
    "    # A function used by DFS\n",
    "    def DFSUtil(self, v, visited):\n",
    "\n",
    "        # Mark the current node as visited\n",
    "        # and print it\n",
    "        visited.add(v)\n",
    "        print(v, end=' ')\n",
    "\n",
    "        # Recur for all the vertices\n",
    "        # adjacent to this vertex\n",
    "        for neighbour in self.graph[v]:\n",
    "            if neighbour not in visited:\n",
    "                self.DFSUtil(neighbour, visited)\n",
    "\n",
    "    # The function to do DFS traversal. It uses\n",
    "    # recursive DFSUtil()\n",
    "    def DFS(self, v):\n",
    "\n",
    "        # Create a set to store visited vertices\n",
    "        visited = set()\n",
    "\n",
    "        # Call the recursive helper function\n",
    "        # to print DFS traversal\n",
    "        self.DFSUtil(v, visited)\n",
    "\n",
    "# Driver code\n",
    "\n",
    "\n",
    "# Create a graph given\n",
    "# in the above diagram\n",
    "g = Graph()\n",
    "g.addEdge(0, 1)\n",
    "g.addEdge(0, 2)\n",
    "g.addEdge(1, 2)\n",
    "g.addEdge(2, 0)\n",
    "g.addEdge(2, 3)\n",
    "g.addEdge(3, 3)\n",
    "\n",
    "print(\"Following is DFS from (starting from vertex 2)\")\n",
    "g.DFS(2)\n"
   ]
  },
  {
   "cell_type": "markdown",
   "id": "cb29bca1",
   "metadata": {},
   "source": [
    "Time complexity: O(V + E), where V is the number of vertices and E is the number of edges in the graph.\n",
    "### Python Data Structures – FAQs\n",
    "#### What Are the Basic Data Structures in Python?\n",
    "\n",
    "    Python provides several built-in data structures that are used to store collections of data. These include:\n",
    "\n",
    "    1. List: An ordered collection of items which can be of different types. Lists are mutable.\n",
    "\n",
    "    my_list = [1, 2, 3, \"four\"]\n",
    "\n",
    "    2. Tuple: An ordered collection of items which can be of different types. Tuples are immutable.\n",
    "\n",
    "    my_tuple = (1, 2, 3, \"four\")\n",
    "\n",
    "    3. Set: An unordered collection of unique items. Sets are mutable.\n",
    "\n",
    "    my_set = {1, 2, 3, 4}\n",
    "\n",
    "    4. Dictionary: An unordered collection of key-value pairs. Dictionaries are mutable.\n",
    "\n",
    "    my_dict = {\"one\": 1, \"two\": 2, \"three\": 3}\n",
    "\n",
    "    5. String: A sequence of characters. Strings are immutable.\n",
    "\n",
    "    my_string = \"Hello, World!\"\n",
    "\n",
    "What Are Mutable and Immutable Data Structures?\n",
    "\n",
    "    Mutable Data Structures: These are data structures that can be modified after creation. Examples include lists, dictionaries, and sets.Example:\n",
    "\n",
    "    my_list = [1, 2, 3]\n",
    "    my_list.append(4)  # my_list is now [1, 2, 3, 4]\n",
    "\n",
    "    Immutable Data Structures: These are data structures that cannot be modified after creation. Examples include strings, tuples, and frozensets.Example:\n",
    "\n",
    "    my_tuple = (1, 2, 3)\n",
    "    # my_tuple[0] = 4  # This will raise a TypeError\n",
    "\n",
    "How to Choose the Right Data Structure in Python?\n",
    "\n",
    "    Choosing the right data structure depends on the specific needs of your application. Consider the following factors:\n",
    "\n",
    "        Access Speed:\n",
    "            Lists provide O(1) time complexity for indexing.\n",
    "            Dictionaries provide O(1) time complexity for key lookup.\n",
    "        Insertion and Deletion:\n",
    "            Lists have O(n) time complexity for insertion and deletion in the worst case.\n",
    "            Sets and dictionaries have O(1) time complexity for insertion and deletion.\n",
    "        Order:\n",
    "            Lists and tuples maintain the order of elements.\n",
    "            Sets and dictionaries (in Python 3.7+) maintain insertion order, but typically sets are considered unordered collections.\n",
    "        Uniqueness:\n",
    "            Sets ensure all elements are unique.\n",
    "            Lists and tuples allow duplicate elements.\n",
    "        Mutability:\n",
    "            If you need to modify the data structure after creation, use mutable structures like lists or dictionaries.\n",
    "            For fixed collections of items, use immutable structures like tuples or frozensets.\n",
    "\n",
    "What Are Data Structures Available in the collections Module?\n",
    "\n",
    "    The collections module in Python provides several additional data structures that are designed to handle specific use cases:\n",
    "\n",
    "    1. namedtuple(): Factory function for creating tuple subclasses with named fields.\n",
    "\n",
    "    from collections import namedtuple\n",
    "    Point = namedtuple('Point', ['x', 'y'])\n",
    "    p = Point(1, 2)\n",
    "\n",
    "    2. deque: A list-like container with fast appends and pops on both ends.\n",
    "\n",
    "    from collections import deque\n",
    "    d = deque([1, 2, 3])\n",
    "    d.append(4)\n",
    "    d.appendleft(0)\n",
    "\n",
    "    3. ChainMap: A class for creating a single view of multiple mappings.\n",
    "\n",
    "    from collections import ChainMap\n",
    "    dict1 = {'a': 1, 'b': 2}\n",
    "    dict2 = {'c': 3, 'd': 4}\n",
    "    chain = ChainMap(dict1, dict2)\n",
    "\n",
    "    4. Counter: A dictionary subclass for counting hashable objects.\n",
    "\n",
    "    from collections import Counter\n",
    "    cnt = Counter(['a', 'b', 'c', 'a', 'b', 'b'])\n",
    "\n",
    "    5. OrderedDict: A dictionary subclass that remembers the order entries were added.\n",
    "\n",
    "    from collections import OrderedDict\n",
    "    od = OrderedDict()\n",
    "    od['a'] = 1\n",
    "    od['b'] = 2\n",
    "\n",
    "    6. defaultdict: A dictionary subclass that calls a factory function to supply missing values.\n",
    "\n",
    "    from collections import defaultdict\n",
    "    dd = defaultdict(int)\n",
    "    dd['a'] += 1"
   ]
  }
 ],
 "metadata": {
  "kernelspec": {
   "display_name": "Python3(Dataproject)",
   "language": "python",
   "name": "dataprojec"
  },
  "language_info": {
   "codemirror_mode": {
    "name": "ipython",
    "version": 3
   },
   "file_extension": ".py",
   "mimetype": "text/x-python",
   "name": "python",
   "nbconvert_exporter": "python",
   "pygments_lexer": "ipython3",
   "version": "3.12.3"
  }
 },
 "nbformat": 4,
 "nbformat_minor": 5
}
